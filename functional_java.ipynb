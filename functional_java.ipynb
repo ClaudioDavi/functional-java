{
 "cells": [
  {
   "cell_type": "markdown",
   "metadata": {},
   "source": [
    "# Functional Java 8\n",
    "\n",
    "### In this notebook I'll make experiments with the functional aspects introduced in Java-8"
   ]
  },
  {
   "cell_type": "markdown",
   "metadata": {},
   "source": [
    "#### Higher Order Functions\n",
    "\n",
    "Ok, so this is something that is very interesting, in Java now we can create Functions as first class citzens. Which means that we can pass functions as arguments to other functions. We'll try that now:"
   ]
  },
  {
   "cell_type": "code",
   "execution_count": null,
   "metadata": {
    "collapsed": true
   },
   "outputs": [],
   "source": [
    "import java.util.function.*;\n",
    "\n",
    "//Our first higher Order function...\n",
    "public Integer compute(Function<Integer, Integer> function, Integer value){\n",
    "    return function.apply(value);\n",
    "}\n",
    "\n",
    "//Overloading the compute function to support 2 arguments\n",
    "public Integer compute(BiFunction<Integer, Integer, Integer> function, Integer firstValue, Integer secondValue) {\n",
    "    return function.apply(firstValue, secondValue);\n",
    "}\n",
    "\n",
    "public class Calculator {\n",
    "    \n",
    "    //Uses our higher order functions with a lambda expression\n",
    "    public static Integer square(Integer toSquare) {\n",
    "        return compute((value) -> value * value, toSquare);\n",
    "    }\n",
    "    \n",
    "    public static Integer multiply(Integer first, Integer second) {\n",
    "        return compute((value1, value2) -> value1 * value2, first, second);\n",
    "    }\n",
    "    \n",
    "}\n",
    "System.out.println(Calculator.square(2));\n",
    "System.out.println(Calculator.multiply(3,4));"
   ]
  },
  {
   "cell_type": "markdown",
   "metadata": {},
   "source": [
    "#### Lambda Expressions\n",
    "We have seen previously the use of lambda expressions, so we will explore a bit here now"
   ]
  },
  {
   "cell_type": "code",
   "execution_count": null,
   "metadata": {
    "collapsed": true
   },
   "outputs": [],
   "source": [
    "//Lambda without type declaration\n",
    "Function<Integer, Integer> multiplyByTwo = (value) -> value * 2;\n",
    "System.out.println(multiplyByTwo.apply(2));\n",
    "\n",
    "//Lambda with type declaration\n",
    "Function<String, String> concat = (String sentence) -> sentence + \" / rest of sentence\";\n",
    "System.out.println(concat.apply(\"Start of sentence\"));\n"
   ]
  },
  {
   "cell_type": "markdown",
   "metadata": {},
   "source": [
    "#### Streams\n",
    "\n",
    "For this one, I'll try to apply the concepts into a similar problem that I'm currently working on.\n",
    "Streams are nice because of two main reasons: They will always return back a Stream, and they are immutable. Which is a big deal for Funcional Programming."
   ]
  },
  {
   "cell_type": "code",
   "execution_count": null,
   "metadata": {
    "collapsed": true
   },
   "outputs": [],
   "source": [
    "import java.util.function.*;\n",
    "import java.util.stream.*;\n",
    "\n",
    "\n",
    "public class DummyClass {\n",
    "    \n",
    "    private String foo;\n",
    "    private Long bar;\n",
    "    \n",
    "    public DummyClass(String foo, Long bar) {\n",
    "        this.foo = foo;\n",
    "        this.bar = bar;\n",
    "    }\n",
    "    \n",
    "    public String getFoo() {\n",
    "        return this.foo;\n",
    "    }\n",
    "    public Long getBar() {\n",
    "        return this.bar;\n",
    "    } \n",
    "    \n",
    "    @Override\n",
    "    public String toString() {\n",
    "        return this.foo;\n",
    "    }\n",
    "    \n",
    "}\n",
    "\n",
    "List<DummyClass> dummyList = new ArrayList();\n",
    "\n",
    "DummyClass nextFoo = new DummyClass(\"1.0.2\", 1516413600000l); //20/01/2018\n",
    "DummyClass previousFoo = new DummyClass(\"1.0.0\", 1515376800000l);// 08/01/2018\n",
    "DummyClass firstFoo = new DummyClass(\"1.0.1\", 1515722400000l); // 12/01/2018\n",
    "DummyClass secondFoo = new DummyClass(\"1.0.1\", 1516234500248l);// 17/01/2018\n",
    "\n",
    "\n",
    "dummyList.addAll(Arrays.asList(previousFoo, firstFoo, secondFoo, nextFoo));\n",
    "\n",
    "Stream<DummyClass> dummyStream = dummyList.stream();\n",
    "\n",
    "List<DummyClass> dummyList = dummyStream.sorted((dc1, dc2) -> Long.compare(dc1.getBar(), dc2.getBar())).collect(Collectors.toList());\n",
    "\n",
    "dummyList.forEach(System.out::println);"
   ]
  },
  {
   "cell_type": "markdown",
   "metadata": {
    "collapsed": true
   },
   "source": [
    "### Thoughts and Considerations\n",
    "\n",
    "First of, Functional programming is not intuitive at first. Specially for those of us, myself included, who came from an Object Oriented background. \n",
    "It is very nice and satisfying to write code in a functional way, although I am still not sure if I could pull it off on my job. That is because of two main reasons that we have to keep always in mind: Our code has to be easy to understand and even easier to mantain."
   ]
  }
 ],
 "metadata": {
  "kernelspec": {
   "display_name": "Java",
   "language": "java",
   "name": "java"
  },
  "language_info": {
   "codemirror_mode": "java",
   "file_extension": ".java",
   "mimetype": "text/x-java-source",
   "name": "Java",
   "pygments_lexer": "java",
   "version": "9.0.1+11"
  }
 },
 "nbformat": 4,
 "nbformat_minor": 2
}
